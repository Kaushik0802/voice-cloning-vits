{
 "cells": [
  {
   "cell_type": "code",
   "execution_count": null,
   "id": "5eb525e8",
   "metadata": {
    "vscode": {
     "languageId": "plaintext"
    }
   },
   "outputs": [],
   "source": [
    "!pip install TTS torch soundfile\n"
   ]
  },
  {
   "cell_type": "code",
   "execution_count": null,
   "id": "a9afa6eb",
   "metadata": {
    "vscode": {
     "languageId": "plaintext"
    }
   },
   "outputs": [],
   "source": [
    "from TTS.api import TTS\n",
    "import torch\n",
    "\n",
    "# Load base VITS model (fine-tuned model if available)\n",
    "tts = TTS(model_name=\"tts_models/en/vctk/vits\").to(\"cuda\" if torch.cuda.is_available() else \"cpu\")\n"
   ]
  },
  {
   "cell_type": "code",
   "execution_count": null,
   "id": "d8a21ede",
   "metadata": {
    "vscode": {
     "languageId": "plaintext"
    }
   },
   "outputs": [],
   "source": [
    "text = \"Hello! This is a cloned voice generated using VITS.\"\n",
    "wav = tts.tts(text)\n",
    "\n",
    "# Save output\n",
    "import soundfile as sf\n",
    "sf.write(\"quick_output.wav\", wav, samplerate=22050)\n"
   ]
  },
  {
   "cell_type": "code",
   "execution_count": null,
   "id": "6d66e13c",
   "metadata": {
    "vscode": {
     "languageId": "plaintext"
    }
   },
   "outputs": [],
   "source": [
    "from IPython.display import Audio\n",
    "Audio(\"quick_output.wav\")\n"
   ]
  },
  {
   "cell_type": "code",
   "execution_count": null,
   "id": "31d6e0de",
   "metadata": {
    "vscode": {
     "languageId": "plaintext"
    }
   },
   "outputs": [],
   "source": []
  },
  {
   "cell_type": "code",
   "execution_count": null,
   "id": "fd46a38f",
   "metadata": {
    "vscode": {
     "languageId": "plaintext"
    }
   },
   "outputs": [],
   "source": []
  },
  {
   "cell_type": "code",
   "execution_count": null,
   "id": "e9f472ee",
   "metadata": {
    "vscode": {
     "languageId": "plaintext"
    }
   },
   "outputs": [],
   "source": []
  },
  {
   "cell_type": "code",
   "execution_count": null,
   "id": "f1c6fbf1",
   "metadata": {
    "vscode": {
     "languageId": "plaintext"
    }
   },
   "outputs": [],
   "source": []
  }
 ],
 "metadata": {
  "language_info": {
   "name": "python"
  }
 },
 "nbformat": 4,
 "nbformat_minor": 5
}
