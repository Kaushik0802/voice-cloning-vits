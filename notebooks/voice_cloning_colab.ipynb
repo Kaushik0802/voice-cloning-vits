{
 "cells": [
  {
   "cell_type": "code",
   "execution_count": null,
   "id": "0f018cb8",
   "metadata": {
    "vscode": {
     "languageId": "plaintext"
    }
   },
   "outputs": [],
   "source": [
    "!pip install TTS torch pandas matplotlib seaborn pyyaml tqdm\n"
   ]
  },
  {
   "cell_type": "code",
   "execution_count": null,
   "id": "d177af76",
   "metadata": {
    "vscode": {
     "languageId": "plaintext"
    }
   },
   "outputs": [],
   "source": [
    "from google.colab import files\n",
    "uploaded = files.upload()  # upload final_voice_cloning_project.zip\n",
    "!unzip final_voice_cloning_project.zip\n",
    "%cd final_voice_cloning_project_ready\n"
   ]
  },
  {
   "cell_type": "code",
   "execution_count": null,
   "id": "9bb7025a",
   "metadata": {
    "vscode": {
     "languageId": "plaintext"
    }
   },
   "outputs": [],
   "source": [
    "!python src/data/prepare_dataset.py --config src/config/config.yaml\n"
   ]
  },
  {
   "cell_type": "code",
   "execution_count": null,
   "id": "0513546f",
   "metadata": {
    "vscode": {
     "languageId": "plaintext"
    }
   },
   "outputs": [],
   "source": [
    "!python src/models/train_model.py --config src/config/config.yaml\n"
   ]
  },
  {
   "cell_type": "code",
   "execution_count": null,
   "id": "93a7a52f",
   "metadata": {
    "vscode": {
     "languageId": "plaintext"
    }
   },
   "outputs": [],
   "source": [
    "!python src/plot_training_curves.py --config src/config/config.yaml\n"
   ]
  },
  {
   "cell_type": "code",
   "execution_count": null,
   "id": "6831cbc5",
   "metadata": {
    "vscode": {
     "languageId": "plaintext"
    }
   },
   "outputs": [],
   "source": [
    "!python src/inference/run_inference.py --config src/config/config.yaml\n"
   ]
  },
  {
   "cell_type": "code",
   "execution_count": null,
   "id": "9bbf19d3",
   "metadata": {
    "vscode": {
     "languageId": "plaintext"
    }
   },
   "outputs": [],
   "source": [
    "from google.colab import files\n",
    "files.download('outputs/generated_audio/cloned_voice_output.wav')\n"
   ]
  }
 ],
 "metadata": {
  "language_info": {
   "name": "python"
  }
 },
 "nbformat": 4,
 "nbformat_minor": 5
}
